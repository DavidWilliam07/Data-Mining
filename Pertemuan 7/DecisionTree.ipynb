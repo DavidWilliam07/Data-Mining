{
  "nbformat": 4,
  "nbformat_minor": 0,
  "metadata": {
    "colab": {
      "name": "DecisionTree.ipynb",
      "provenance": [],
      "collapsed_sections": []
    },
    "kernelspec": {
      "name": "python3",
      "display_name": "Python 3"
    },
    "language_info": {
      "name": "python"
    }
  },
  "cells": [
    {
      "cell_type": "markdown",
      "metadata": {
        "id": "Nj_e0jrtCmWm"
      },
      "source": [
        "**Mengimpor Library yang diperlukan**"
      ]
    },
    {
      "cell_type": "code",
      "metadata": {
        "id": "rMlCusjxCU5X"
      },
      "source": [
        "from sklearn.tree import DecisionTreeClassifier\n",
        "from sklearn import datasets\n",
        "import matplotlib.pyplot as plt"
      ],
      "execution_count": 9,
      "outputs": []
    },
    {
      "cell_type": "markdown",
      "metadata": {
        "id": "KV9tDx_sCsCO"
      },
      "source": [
        "**Membaca Data Input**\n",
        "\n",
        "Sebagai ilustrasi, dataset yang digunakan di dalam program ini adalah dataset bunga IRIS yang bersumber pada data yang dipublikasikan oleh Fisher ( FIsher, 1950 ) yang tersedia di website UCI Machine Learning Repository"
      ]
    },
    {
      "cell_type": "code",
      "metadata": {
        "id": "etDpdgxcCsha"
      },
      "source": [
        "iris = datasets.load_iris()\n",
        "features = iris['data']\n",
        "target = iris['target']"
      ],
      "execution_count": 10,
      "outputs": []
    },
    {
      "cell_type": "markdown",
      "metadata": {
        "id": "OvME7mXpCtBn"
      },
      "source": [
        "**Membuat Objek Model Decision Tree**"
      ]
    },
    {
      "cell_type": "code",
      "metadata": {
        "id": "B78ZrU1sCtaI"
      },
      "source": [
        "decisiontree = DecisionTreeClassifier(random_state = 0, max_depth = None, \n",
        "                                      min_samples_split = 3, min_samples_leaf = 2,\n",
        "                                      min_weight_fraction_leaf = 0, max_leaf_nodes = None,\n",
        "                                      min_impurity_decrease = 0)"
      ],
      "execution_count": 11,
      "outputs": []
    },
    {
      "cell_type": "markdown",
      "metadata": {
        "id": "ZtE3MN2sCtuC"
      },
      "source": [
        "**Mentraining Decision Tree**"
      ]
    },
    {
      "cell_type": "code",
      "metadata": {
        "id": "rPOsg_rMCuNT"
      },
      "source": [
        "model = decisiontree.fit(features, target)"
      ],
      "execution_count": 12,
      "outputs": []
    },
    {
      "cell_type": "markdown",
      "metadata": {
        "id": "p2YSR2c9EZYr"
      },
      "source": [
        "**Membuat Prediksi**\n",
        "\n",
        "Pada tahap ini dilakukan pengambilan sampel observasi dan membuat prediksi. Sample yang diberikan adalah data dimensi kelopak.\n",
        "\n",
        "Fungsi **predict()** digunakan untuk memeriksa kelas yang dimilikinya.\n",
        "\n",
        "Fungsi **predict_proba** digunakan untuk memerikasa probabilitas kelas dari prediksi tersebut"
      ]
    },
    {
      "cell_type": "code",
      "metadata": {
        "id": "hezJAQ8lEZ1l",
        "colab": {
          "base_uri": "https://localhost:8080/"
        },
        "outputId": "97bdeb19-ad7c-4ce1-e9ed-bf6ccb558154"
      },
      "source": [
        "observation = [[4, 3, 2, 1]]\n",
        "model.predict(observation)\n",
        "model.predict_proba(observation)"
      ],
      "execution_count": 14,
      "outputs": [
        {
          "output_type": "execute_result",
          "data": {
            "text/plain": [
              "array([[0. , 0.5, 0.5]])"
            ]
          },
          "metadata": {
            "tags": []
          },
          "execution_count": 14
        }
      ]
    },
    {
      "cell_type": "markdown",
      "metadata": {
        "id": "76WPz9tkEaLQ"
      },
      "source": [
        "**Membuat Grafik Visualisasi Decision Tree**"
      ]
    },
    {
      "cell_type": "code",
      "metadata": {
        "id": "SAKZSglEEamZ",
        "colab": {
          "base_uri": "https://localhost:8080/"
        },
        "outputId": "b304a79c-ef09-44ed-90f7-7ebcac7c8c7b"
      },
      "source": [
        "import pydotplus\n",
        "from sklearn import tree\n",
        "\n",
        "dot_data = tree.export_graphviz(decisiontree, out_file = None, \n",
        "                                feature_names = iris[\"feature_names\"], \n",
        "                                class_names = iris[\"target_names\"])\n",
        "\n",
        "from IPython.display import Image\n",
        "\n",
        "graph = pydotplus.graph_from_dot_data(dot_data)\n",
        "Image(graph.create_png())\n",
        "graph.write_png(\"D:\\iris.png\")"
      ],
      "execution_count": 15,
      "outputs": [
        {
          "output_type": "execute_result",
          "data": {
            "text/plain": [
              "True"
            ]
          },
          "metadata": {
            "tags": []
          },
          "execution_count": 15
        }
      ]
    },
    {
      "cell_type": "markdown",
      "metadata": {
        "id": "KfMkCVduFRwv"
      },
      "source": [
        ""
      ]
    },
    {
      "cell_type": "code",
      "metadata": {
        "id": "mpbmB-8mFRPZ"
      },
      "source": [
        ""
      ],
      "execution_count": null,
      "outputs": []
    }
  ]
}